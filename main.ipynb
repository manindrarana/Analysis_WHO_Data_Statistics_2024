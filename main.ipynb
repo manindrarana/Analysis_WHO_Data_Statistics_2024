{
 "cells": [
  {
   "cell_type": "markdown",
   "metadata": {},
   "source": [
    "# Libraries"
   ]
  },
  {
   "cell_type": "code",
   "execution_count": 2,
   "metadata": {},
   "outputs": [],
   "source": [
    "import pandas as pd\n"
   ]
  },
  {
   "cell_type": "markdown",
   "metadata": {},
   "source": [
    "# Load Data"
   ]
  },
  {
   "cell_type": "code",
   "execution_count": 4,
   "metadata": {},
   "outputs": [
    {
     "name": "stdout",
     "output_type": "stream",
     "text": [
      "Collecting openpyxl\n",
      "  Downloading openpyxl-3.1.5-py2.py3-none-any.whl.metadata (2.5 kB)\n",
      "Collecting et-xmlfile (from openpyxl)\n",
      "  Downloading et_xmlfile-2.0.0-py3-none-any.whl.metadata (2.7 kB)\n",
      "Downloading openpyxl-3.1.5-py2.py3-none-any.whl (250 kB)\n",
      "   ---------------------------------------- 0.0/250.9 kB ? eta -:--:--\n",
      "   ---------------------------------------- 0.0/250.9 kB ? eta -:--:--\n",
      "   ---- ---------------------------------- 30.7/250.9 kB 660.6 kB/s eta 0:00:01\n",
      "   --------- ------------------------------ 61.4/250.9 kB 1.1 MB/s eta 0:00:01\n",
      "   ------------------- -------------------- 122.9/250.9 kB 1.2 MB/s eta 0:00:01\n",
      "   ---------------------------------------- 250.9/250.9 kB 1.5 MB/s eta 0:00:00\n",
      "Downloading et_xmlfile-2.0.0-py3-none-any.whl (18 kB)\n",
      "Installing collected packages: et-xmlfile, openpyxl\n",
      "Successfully installed et-xmlfile-2.0.0 openpyxl-3.1.5\n",
      "Note: you may need to restart the kernel to use updated packages.\n"
     ]
    },
    {
     "name": "stderr",
     "output_type": "stream",
     "text": [
      "\n",
      "[notice] A new release of pip is available: 24.0 -> 25.0\n",
      "[notice] To update, run: python.exe -m pip install --upgrade pip\n"
     ]
    }
   ],
   "source": [
    "%pip install openpyxl"
   ]
  },
  {
   "cell_type": "code",
   "execution_count": 14,
   "metadata": {},
   "outputs": [
    {
     "name": "stdout",
     "output_type": "stream",
     "text": [
      "['readme', 'data']\n"
     ]
    }
   ],
   "source": [
    "file_path = 'web_download.xlsx'\n",
    "xls = pd.ExcelFile(file_path)\n",
    "print(xls.sheet_names)"
   ]
  },
  {
   "cell_type": "code",
   "execution_count": 18,
   "metadata": {},
   "outputs": [
    {
     "name": "stdout",
     "output_type": "stream",
     "text": [
      "                                            IND_NAME DIM_GEO_NAME  \\\n",
      "0             Adolescent birth rate (per 1000 women)  Afghanistan   \n",
      "1             Adolescent birth rate (per 1000 women)  Afghanistan   \n",
      "2  Age-standardized mortality rate attributed to ...  Afghanistan   \n",
      "3  Age-standardized prevalence of hypertension am...  Afghanistan   \n",
      "4  Age-standardized prevalence of obesity among a...  Afghanistan   \n",
      "\n",
      "               IND_CODE DIM_GEO_CODE  DIM_TIME_YEAR           DIM_1_CODE  \\\n",
      "0        MDG_0000000003          AFG           2021  AGEGROUP_YEARS15-19   \n",
      "1        MDG_0000000003          AFG           2021  AGEGROUP_YEARS10-14   \n",
      "2            SDGAIRBODA          AFG           2019             SEX_BTSX   \n",
      "3  NCD_HYP_PREVALENCE_A          AFG           2019             SEX_BTSX   \n",
      "4           NCD_BMI_30A          AFG           2022             SEX_BTSX   \n",
      "\n",
      "   VALUE_NUMERIC VALUE_STRING  \\\n",
      "0      62.000000         62.0   \n",
      "1      18.000000         18.0   \n",
      "2     265.664520        265.7   \n",
      "3      40.200001         40.2   \n",
      "4      19.222589         19.2   \n",
      "\n",
      "                                      VALUE_COMMENTS  \n",
      "0  Afghanistan 2022-2023 Multiple Indicator Clust...  \n",
      "1  Afghanistan 2022-2023 Multiple Indicator Clust...  \n",
      "2                                                NaN  \n",
      "3                                                NaN  \n",
      "4                                                NaN  \n"
     ]
    }
   ],
   "source": [
    "data = pd.read_excel(file_path, sheet_name='data')\n",
    "print(data.head())"
   ]
  }
 ],
 "metadata": {
  "kernelspec": {
   "display_name": "Python 3",
   "language": "python",
   "name": "python3"
  },
  "language_info": {
   "codemirror_mode": {
    "name": "ipython",
    "version": 3
   },
   "file_extension": ".py",
   "mimetype": "text/x-python",
   "name": "python",
   "nbconvert_exporter": "python",
   "pygments_lexer": "ipython3",
   "version": "3.12.1"
  }
 },
 "nbformat": 4,
 "nbformat_minor": 2
}
